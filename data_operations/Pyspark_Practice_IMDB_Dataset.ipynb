{
  "metadata": {
    "kernelspec": {
      "language": "python",
      "display_name": "Python 3",
      "name": "python3"
    },
    "language_info": {
      "name": "python",
      "version": "3.10.12",
      "mimetype": "text/x-python",
      "codemirror_mode": {
        "name": "ipython",
        "version": 3
      },
      "pygments_lexer": "ipython3",
      "nbconvert_exporter": "python",
      "file_extension": ".py"
    },
    "kaggle": {
      "accelerator": "none",
      "dataSources": [
        {
          "sourceId": 1898721,
          "sourceType": "datasetVersion",
          "datasetId": 1131493
        }
      ],
      "dockerImageVersionId": 30886,
      "isInternetEnabled": true,
      "language": "python",
      "sourceType": "notebook",
      "isGpuEnabled": false
    },
    "colab": {
      "provenance": []
    }
  },
  "nbformat_minor": 0,
  "nbformat": 4,
  "cells": [
    {
      "cell_type": "code",
      "source": [
        "!apt-get install openjdk-8-jdk-headless -qq > /dev/null\n",
        "!wget -q http://archive.apache.org/dist/spark/spark-3.5.1/spark-3.5.1-bin-hadoop3.tgz\n",
        "!tar xf spark-3.5.1-bin-hadoop3.tgz\n",
        "!pip install -q findspark"
      ],
      "metadata": {
        "id": "mESm-vKb3lA3"
      },
      "execution_count": null,
      "outputs": []
    },
    {
      "cell_type": "code",
      "source": [
        "import os\n",
        "os.environ[\"JAVA_HOME\"] = \"/usr/lib/jvm/java-8-openjdk-amd64\"\n",
        "os.environ[\"SPARK_HOME\"] = \"/content/spark-3.5.1-bin-hadoop3\""
      ],
      "metadata": {
        "id": "CB3XrKeI3mS1"
      },
      "execution_count": null,
      "outputs": []
    },
    {
      "cell_type": "code",
      "source": [
        "!ls"
      ],
      "metadata": {
        "colab": {
          "base_uri": "https://localhost:8080/"
        },
        "id": "4IgeGnsA3tSj",
        "outputId": "7aadfcc5-5b81-4aad-be56-74c8c99f6c76"
      },
      "execution_count": null,
      "outputs": [
        {
          "output_type": "stream",
          "name": "stdout",
          "text": [
            "sample_data  spark-3.5.1-bin-hadoop3  spark-3.5.1-bin-hadoop3.tgz\n"
          ]
        }
      ]
    },
    {
      "cell_type": "code",
      "source": [
        "import findspark\n",
        "findspark.init()\n",
        "from pyspark.sql import SparkSession\n",
        "spark = SparkSession.builder.master(\"local[*]\").getOrCreate()\n",
        "spark.conf.set(\"spark.sql.repl.eagerEval.enabled\", True) # Property used to format output tables better\n",
        "spark"
      ],
      "metadata": {
        "colab": {
          "base_uri": "https://localhost:8080/",
          "height": 219
        },
        "id": "BOU5u-YV3we2",
        "outputId": "1979880e-a384-4c38-d0e2-68fe1ac39cec"
      },
      "execution_count": null,
      "outputs": [
        {
          "output_type": "execute_result",
          "data": {
            "text/plain": [
              "<pyspark.sql.session.SparkSession at 0x78b102b41fd0>"
            ],
            "text/html": [
              "\n",
              "            <div>\n",
              "                <p><b>SparkSession - in-memory</b></p>\n",
              "                \n",
              "        <div>\n",
              "            <p><b>SparkContext</b></p>\n",
              "\n",
              "            <p><a href=\"http://46c2aee0acc3:4040\">Spark UI</a></p>\n",
              "\n",
              "            <dl>\n",
              "              <dt>Version</dt>\n",
              "                <dd><code>v3.5.1</code></dd>\n",
              "              <dt>Master</dt>\n",
              "                <dd><code>local[*]</code></dd>\n",
              "              <dt>AppName</dt>\n",
              "                <dd><code>pyspark-shell</code></dd>\n",
              "            </dl>\n",
              "        </div>\n",
              "        \n",
              "            </div>\n",
              "        "
            ]
          },
          "metadata": {},
          "execution_count": 13
        }
      ]
    },
    {
      "source": [
        "# IMPORTANT: RUN THIS CELL IN ORDER TO IMPORT YOUR KAGGLE DATA SOURCES,\n",
        "# THEN FEEL FREE TO DELETE THIS CELL.\n",
        "# NOTE: THIS NOTEBOOK ENVIRONMENT DIFFERS FROM KAGGLE'S PYTHON\n",
        "# ENVIRONMENT SO THERE MAY BE MISSING LIBRARIES USED BY YOUR\n",
        "# NOTEBOOK.\n",
        "import kagglehub\n",
        "harshitshankhdhar_imdb_dataset_of_top_1000_movies_and_tv_shows_path = kagglehub.dataset_download('harshitshankhdhar/imdb-dataset-of-top-1000-movies-and-tv-shows')\n",
        "\n",
        "print('Data source import complete.')\n"
      ],
      "metadata": {
        "id": "vIQPdiuXgqnz",
        "colab": {
          "base_uri": "https://localhost:8080/"
        },
        "outputId": "c362f1d6-0d20-4eee-c10f-9919094716db"
      },
      "cell_type": "code",
      "outputs": [
        {
          "output_type": "stream",
          "name": "stdout",
          "text": [
            "Data source import complete.\n"
          ]
        }
      ],
      "execution_count": null
    },
    {
      "cell_type": "code",
      "source": [
        "import os\n",
        "for dirname, _, filenames in os.walk('/kaggle/input'):\n",
        "    for filename in filenames:\n",
        "        print(os.path.join(dirname, filename))\n",
        "\n",
        "# import matplotlib.pyplot as plt\n",
        "# import seaborn as sns\n",
        "# import pandas as pd"
      ],
      "metadata": {
        "_uuid": "8f2839f25d086af736a60e9eeb907d3b93b6e0e5",
        "_cell_guid": "b1076dfc-b9ad-4769-8c92-a6c4dae69d19",
        "trusted": true,
        "execution": {
          "iopub.status.busy": "2025-03-04T18:43:35.026011Z",
          "iopub.execute_input": "2025-03-04T18:43:35.026253Z",
          "iopub.status.idle": "2025-03-04T18:43:35.269007Z",
          "shell.execute_reply.started": "2025-03-04T18:43:35.02622Z",
          "shell.execute_reply": "2025-03-04T18:43:35.268309Z"
        },
        "id": "qCET6n6Xgqn2",
        "colab": {
          "base_uri": "https://localhost:8080/"
        },
        "outputId": "a4c4e60d-600f-4fb4-e077-675402704f56"
      },
      "outputs": [
        {
          "output_type": "stream",
          "name": "stdout",
          "text": [
            "/kaggle/input/imdb-dataset-of-top-1000-movies-and-tv-shows/.nfs0000000027903d7500000008\n",
            "/kaggle/input/imdb-dataset-of-top-1000-movies-and-tv-shows/imdb_top_1000.csv\n"
          ]
        }
      ],
      "execution_count": null
    },
    {
      "cell_type": "code",
      "source": [
        "# Load dataset as pandas dataframe\n",
        "df = spark.read.csv(\"/kaggle/input/imdb-dataset-of-top-1000-movies-and-tv-shows/imdb_top_1000.csv\", inferSchema=True, header=True)"
      ],
      "metadata": {
        "trusted": true,
        "execution": {
          "iopub.status.busy": "2025-03-04T18:43:35.807217Z",
          "iopub.execute_input": "2025-03-04T18:43:35.807707Z",
          "iopub.status.idle": "2025-03-04T18:43:35.83586Z",
          "shell.execute_reply.started": "2025-03-04T18:43:35.807677Z",
          "shell.execute_reply": "2025-03-04T18:43:35.834872Z"
        },
        "id": "jJwm1PNUgqn3",
        "colab": {
          "base_uri": "https://localhost:8080/",
          "height": 161
        },
        "outputId": "0d3586dd-fd03-4352-a1c7-0158233585d2"
      },
      "outputs": [
        {
          "output_type": "execute_result",
          "data": {
            "text/plain": [
              "+--------------------+--------------------+-------------+-----------+-------+--------------------+-----------+--------------------+----------+--------------------+--------------+--------------+-------------+--------------+-----------+-----------+\n",
              "|         Poster_Link|        Series_Title|Released_Year|Certificate|Runtime|               Genre|IMDB_Rating|            Overview|Meta_score|            Director|         Star1|         Star2|        Star3|         Star4|No_of_Votes|      Gross|\n",
              "+--------------------+--------------------+-------------+-----------+-------+--------------------+-----------+--------------------+----------+--------------------+--------------+--------------+-------------+--------------+-----------+-----------+\n",
              "|https://m.media-a...|The Shawshank Red...|         1994|          A|142 min|               Drama|        9.3|Two imprisoned me...|        80|      Frank Darabont|   Tim Robbins|Morgan Freeman|   Bob Gunton|William Sadler|    2343110| 28,341,469|\n",
              "|https://m.media-a...|       The Godfather|         1972|          A|175 min|        Crime, Drama|        9.2|An organized crim...|       100|Francis Ford Coppola| Marlon Brando|     Al Pacino|   James Caan|  Diane Keaton|    1620367|134,966,411|\n",
              "|https://m.media-a...|     The Dark Knight|         2008|         UA|152 min|Action, Crime, Drama|        9.0|When the menace k...|        84|   Christopher Nolan|Christian Bale|  Heath Ledger|Aaron Eckhart| Michael Caine|    2303232|534,858,444|\n",
              "|https://m.media-a...|The Godfather: Pa...|         1974|          A|202 min|        Crime, Drama|        9.0|The early life an...|        90|Francis Ford Coppola|     Al Pacino|Robert De Niro|Robert Duvall|  Diane Keaton|    1129952| 57,300,000|\n",
              "|https://m.media-a...|        12 Angry Men|         1957|          U| 96 min|        Crime, Drama|        9.0|A jury holdout at...|        96|        Sidney Lumet|   Henry Fonda|   Lee J. Cobb|Martin Balsam|  John Fiedler|     689845|  4,360,000|\n",
              "+--------------------+--------------------+-------------+-----------+-------+--------------------+-----------+--------------------+----------+--------------------+--------------+--------------+-------------+--------------+-----------+-----------+"
            ],
            "text/html": [
              "<table border='1'>\n",
              "<tr><th>Poster_Link</th><th>Series_Title</th><th>Released_Year</th><th>Certificate</th><th>Runtime</th><th>Genre</th><th>IMDB_Rating</th><th>Overview</th><th>Meta_score</th><th>Director</th><th>Star1</th><th>Star2</th><th>Star3</th><th>Star4</th><th>No_of_Votes</th><th>Gross</th></tr>\n",
              "<tr><td>https://m.media-a...</td><td>The Shawshank Red...</td><td>1994</td><td>A</td><td>142 min</td><td>Drama</td><td>9.3</td><td>Two imprisoned me...</td><td>80</td><td>Frank Darabont</td><td>Tim Robbins</td><td>Morgan Freeman</td><td>Bob Gunton</td><td>William Sadler</td><td>2343110</td><td>28,341,469</td></tr>\n",
              "<tr><td>https://m.media-a...</td><td>The Godfather</td><td>1972</td><td>A</td><td>175 min</td><td>Crime, Drama</td><td>9.2</td><td>An organized crim...</td><td>100</td><td>Francis Ford Coppola</td><td>Marlon Brando</td><td>Al Pacino</td><td>James Caan</td><td>Diane Keaton</td><td>1620367</td><td>134,966,411</td></tr>\n",
              "<tr><td>https://m.media-a...</td><td>The Dark Knight</td><td>2008</td><td>UA</td><td>152 min</td><td>Action, Crime, Drama</td><td>9.0</td><td>When the menace k...</td><td>84</td><td>Christopher Nolan</td><td>Christian Bale</td><td>Heath Ledger</td><td>Aaron Eckhart</td><td>Michael Caine</td><td>2303232</td><td>534,858,444</td></tr>\n",
              "<tr><td>https://m.media-a...</td><td>The Godfather: Pa...</td><td>1974</td><td>A</td><td>202 min</td><td>Crime, Drama</td><td>9.0</td><td>The early life an...</td><td>90</td><td>Francis Ford Coppola</td><td>Al Pacino</td><td>Robert De Niro</td><td>Robert Duvall</td><td>Diane Keaton</td><td>1129952</td><td>57,300,000</td></tr>\n",
              "<tr><td>https://m.media-a...</td><td>12 Angry Men</td><td>1957</td><td>U</td><td>96 min</td><td>Crime, Drama</td><td>9.0</td><td>A jury holdout at...</td><td>96</td><td>Sidney Lumet</td><td>Henry Fonda</td><td>Lee J. Cobb</td><td>Martin Balsam</td><td>John Fiedler</td><td>689845</td><td>4,360,000</td></tr>\n",
              "</table>\n"
            ]
          },
          "metadata": {},
          "execution_count": 16
        }
      ],
      "execution_count": null
    },
    {
      "cell_type": "code",
      "source": [
        "# Display first 5 rows\n",
        "df.limit(5)"
      ],
      "metadata": {
        "trusted": true,
        "execution": {
          "iopub.status.busy": "2025-03-04T18:43:35.836585Z",
          "iopub.execute_input": "2025-03-04T18:43:35.836819Z",
          "iopub.status.idle": "2025-03-04T18:43:35.859289Z",
          "shell.execute_reply.started": "2025-03-04T18:43:35.836802Z",
          "shell.execute_reply": "2025-03-04T18:43:35.858684Z"
        },
        "id": "9sTCHMptgqn4",
        "colab": {
          "base_uri": "https://localhost:8080/",
          "height": 161
        },
        "outputId": "1ace3a9b-5917-472a-ac5e-51f3d635f6e5"
      },
      "outputs": [
        {
          "output_type": "execute_result",
          "data": {
            "text/plain": [
              "+--------------------+--------------------+-------------+-----------+-------+--------------------+-----------+--------------------+----------+--------------------+--------------+--------------+-------------+--------------+-----------+-----------+\n",
              "|         Poster_Link|        Series_Title|Released_Year|Certificate|Runtime|               Genre|IMDB_Rating|            Overview|Meta_score|            Director|         Star1|         Star2|        Star3|         Star4|No_of_Votes|      Gross|\n",
              "+--------------------+--------------------+-------------+-----------+-------+--------------------+-----------+--------------------+----------+--------------------+--------------+--------------+-------------+--------------+-----------+-----------+\n",
              "|https://m.media-a...|The Shawshank Red...|         1994|          A|142 min|               Drama|        9.3|Two imprisoned me...|        80|      Frank Darabont|   Tim Robbins|Morgan Freeman|   Bob Gunton|William Sadler|    2343110| 28,341,469|\n",
              "|https://m.media-a...|       The Godfather|         1972|          A|175 min|        Crime, Drama|        9.2|An organized crim...|       100|Francis Ford Coppola| Marlon Brando|     Al Pacino|   James Caan|  Diane Keaton|    1620367|134,966,411|\n",
              "|https://m.media-a...|     The Dark Knight|         2008|         UA|152 min|Action, Crime, Drama|        9.0|When the menace k...|        84|   Christopher Nolan|Christian Bale|  Heath Ledger|Aaron Eckhart| Michael Caine|    2303232|534,858,444|\n",
              "|https://m.media-a...|The Godfather: Pa...|         1974|          A|202 min|        Crime, Drama|        9.0|The early life an...|        90|Francis Ford Coppola|     Al Pacino|Robert De Niro|Robert Duvall|  Diane Keaton|    1129952| 57,300,000|\n",
              "|https://m.media-a...|        12 Angry Men|         1957|          U| 96 min|        Crime, Drama|        9.0|A jury holdout at...|        96|        Sidney Lumet|   Henry Fonda|   Lee J. Cobb|Martin Balsam|  John Fiedler|     689845|  4,360,000|\n",
              "+--------------------+--------------------+-------------+-----------+-------+--------------------+-----------+--------------------+----------+--------------------+--------------+--------------+-------------+--------------+-----------+-----------+"
            ],
            "text/html": [
              "<table border='1'>\n",
              "<tr><th>Poster_Link</th><th>Series_Title</th><th>Released_Year</th><th>Certificate</th><th>Runtime</th><th>Genre</th><th>IMDB_Rating</th><th>Overview</th><th>Meta_score</th><th>Director</th><th>Star1</th><th>Star2</th><th>Star3</th><th>Star4</th><th>No_of_Votes</th><th>Gross</th></tr>\n",
              "<tr><td>https://m.media-a...</td><td>The Shawshank Red...</td><td>1994</td><td>A</td><td>142 min</td><td>Drama</td><td>9.3</td><td>Two imprisoned me...</td><td>80</td><td>Frank Darabont</td><td>Tim Robbins</td><td>Morgan Freeman</td><td>Bob Gunton</td><td>William Sadler</td><td>2343110</td><td>28,341,469</td></tr>\n",
              "<tr><td>https://m.media-a...</td><td>The Godfather</td><td>1972</td><td>A</td><td>175 min</td><td>Crime, Drama</td><td>9.2</td><td>An organized crim...</td><td>100</td><td>Francis Ford Coppola</td><td>Marlon Brando</td><td>Al Pacino</td><td>James Caan</td><td>Diane Keaton</td><td>1620367</td><td>134,966,411</td></tr>\n",
              "<tr><td>https://m.media-a...</td><td>The Dark Knight</td><td>2008</td><td>UA</td><td>152 min</td><td>Action, Crime, Drama</td><td>9.0</td><td>When the menace k...</td><td>84</td><td>Christopher Nolan</td><td>Christian Bale</td><td>Heath Ledger</td><td>Aaron Eckhart</td><td>Michael Caine</td><td>2303232</td><td>534,858,444</td></tr>\n",
              "<tr><td>https://m.media-a...</td><td>The Godfather: Pa...</td><td>1974</td><td>A</td><td>202 min</td><td>Crime, Drama</td><td>9.0</td><td>The early life an...</td><td>90</td><td>Francis Ford Coppola</td><td>Al Pacino</td><td>Robert De Niro</td><td>Robert Duvall</td><td>Diane Keaton</td><td>1129952</td><td>57,300,000</td></tr>\n",
              "<tr><td>https://m.media-a...</td><td>12 Angry Men</td><td>1957</td><td>U</td><td>96 min</td><td>Crime, Drama</td><td>9.0</td><td>A jury holdout at...</td><td>96</td><td>Sidney Lumet</td><td>Henry Fonda</td><td>Lee J. Cobb</td><td>Martin Balsam</td><td>John Fiedler</td><td>689845</td><td>4,360,000</td></tr>\n",
              "</table>\n"
            ]
          },
          "metadata": {},
          "execution_count": 17
        }
      ],
      "execution_count": null
    },
    {
      "cell_type": "code",
      "source": [
        "# How many movies are in the dataset?\n",
        "df.count()"
      ],
      "metadata": {
        "trusted": true,
        "execution": {
          "iopub.status.busy": "2025-03-04T18:43:35.860583Z",
          "iopub.execute_input": "2025-03-04T18:43:35.860757Z",
          "iopub.status.idle": "2025-03-04T18:43:35.864624Z",
          "shell.execute_reply.started": "2025-03-04T18:43:35.860742Z",
          "shell.execute_reply": "2025-03-04T18:43:35.864022Z"
        },
        "id": "JREIiZV5gqn4",
        "colab": {
          "base_uri": "https://localhost:8080/"
        },
        "outputId": "a5416ebf-fe24-40ad-c433-8b92798dbfce"
      },
      "outputs": [
        {
          "output_type": "execute_result",
          "data": {
            "text/plain": [
              "1000"
            ]
          },
          "metadata": {},
          "execution_count": 19
        }
      ],
      "execution_count": null
    },
    {
      "cell_type": "code",
      "source": [
        "# What are the column names?\n",
        "df.columns"
      ],
      "metadata": {
        "trusted": true,
        "execution": {
          "iopub.status.busy": "2025-03-04T18:43:35.865561Z",
          "iopub.execute_input": "2025-03-04T18:43:35.865732Z",
          "iopub.status.idle": "2025-03-04T18:43:35.878319Z",
          "shell.execute_reply.started": "2025-03-04T18:43:35.865717Z",
          "shell.execute_reply": "2025-03-04T18:43:35.877588Z"
        },
        "id": "h0qYh405gqn4",
        "colab": {
          "base_uri": "https://localhost:8080/"
        },
        "outputId": "cccee8e9-f828-413c-df60-42d8c89b6a73"
      },
      "outputs": [
        {
          "output_type": "execute_result",
          "data": {
            "text/plain": [
              "['Poster_Link',\n",
              " 'Series_Title',\n",
              " 'Released_Year',\n",
              " 'Certificate',\n",
              " 'Runtime',\n",
              " 'Genre',\n",
              " 'IMDB_Rating',\n",
              " 'Overview',\n",
              " 'Meta_score',\n",
              " 'Director',\n",
              " 'Star1',\n",
              " 'Star2',\n",
              " 'Star3',\n",
              " 'Star4',\n",
              " 'No_of_Votes',\n",
              " 'Gross']"
            ]
          },
          "metadata": {},
          "execution_count": 22
        }
      ],
      "execution_count": null
    },
    {
      "cell_type": "code",
      "source": [
        "# Find the top 10 movies by imdb rating\n",
        "from pyspark.sql.functions import desc, asc\n",
        "df.sort(desc(\"IMDB_Rating\")).select(\"Series_Title\", \"IMDB_Rating\").limit(9)"
      ],
      "metadata": {
        "trusted": true,
        "execution": {
          "iopub.status.busy": "2025-03-04T18:43:35.87881Z",
          "iopub.execute_input": "2025-03-04T18:43:35.879029Z",
          "iopub.status.idle": "2025-03-04T18:43:35.89531Z",
          "shell.execute_reply.started": "2025-03-04T18:43:35.87901Z",
          "shell.execute_reply": "2025-03-04T18:43:35.894725Z"
        },
        "id": "ydQ5y9yvgqn5",
        "colab": {
          "base_uri": "https://localhost:8080/",
          "height": 255
        },
        "outputId": "888fefcf-1c7e-4ed6-fc24-3a634f3959e1"
      },
      "outputs": [
        {
          "output_type": "execute_result",
          "data": {
            "text/plain": [
              "+--------------------+-----------+\n",
              "|        Series_Title|IMDB_Rating|\n",
              "+--------------------+-----------+\n",
              "|The Shawshank Red...|        9.3|\n",
              "|       The Godfather|        9.2|\n",
              "|     The Dark Knight|        9.0|\n",
              "|The Godfather: Pa...|        9.0|\n",
              "|        12 Angry Men|        9.0|\n",
              "|The Lord of the R...|        8.9|\n",
              "|        Pulp Fiction|        8.9|\n",
              "|    Schindler's List|        8.9|\n",
              "|           Inception|        8.8|\n",
              "+--------------------+-----------+"
            ],
            "text/html": [
              "<table border='1'>\n",
              "<tr><th>Series_Title</th><th>IMDB_Rating</th></tr>\n",
              "<tr><td>The Shawshank Red...</td><td>9.3</td></tr>\n",
              "<tr><td>The Godfather</td><td>9.2</td></tr>\n",
              "<tr><td>The Dark Knight</td><td>9.0</td></tr>\n",
              "<tr><td>The Godfather: Pa...</td><td>9.0</td></tr>\n",
              "<tr><td>12 Angry Men</td><td>9.0</td></tr>\n",
              "<tr><td>The Lord of the R...</td><td>8.9</td></tr>\n",
              "<tr><td>Pulp Fiction</td><td>8.9</td></tr>\n",
              "<tr><td>Schindler's List</td><td>8.9</td></tr>\n",
              "<tr><td>Inception</td><td>8.8</td></tr>\n",
              "</table>\n"
            ]
          },
          "metadata": {},
          "execution_count": 35
        }
      ],
      "execution_count": null
    },
    {
      "cell_type": "code",
      "source": [
        "# What is the average IMDb rating of movies in the dataset?\n",
        "from pyspark.sql.functions import avg, round\n",
        "df.select(round(avg(\"IMDB_Rating\"), 3).alias(\"Average IMDB rating\"))"
      ],
      "metadata": {
        "trusted": true,
        "execution": {
          "iopub.status.busy": "2025-03-04T18:43:35.895982Z",
          "iopub.execute_input": "2025-03-04T18:43:35.896186Z",
          "iopub.status.idle": "2025-03-04T18:43:35.900292Z",
          "shell.execute_reply.started": "2025-03-04T18:43:35.896164Z",
          "shell.execute_reply": "2025-03-04T18:43:35.899747Z"
        },
        "id": "aEtGq12pgqn5",
        "colab": {
          "base_uri": "https://localhost:8080/",
          "height": 68
        },
        "outputId": "ff169feb-a16e-4363-f5fd-d5d5648351eb"
      },
      "outputs": [
        {
          "output_type": "execute_result",
          "data": {
            "text/plain": [
              "+-------------------+\n",
              "|Average IMDB rating|\n",
              "+-------------------+\n",
              "|              7.949|\n",
              "+-------------------+"
            ],
            "text/html": [
              "<table border='1'>\n",
              "<tr><th>Average IMDB rating</th></tr>\n",
              "<tr><td>7.949</td></tr>\n",
              "</table>\n"
            ]
          },
          "metadata": {},
          "execution_count": 38
        }
      ],
      "execution_count": null
    },
    {
      "cell_type": "code",
      "source": [
        "# List the movies released in the year 2000.\n",
        "df.select(\"Series_Title\", \"IMDB_Rating\", \"Released_Year\").filter(\"Released_Year == 2000\")"
      ],
      "metadata": {
        "trusted": true,
        "execution": {
          "iopub.status.busy": "2025-03-04T18:43:35.900906Z",
          "iopub.execute_input": "2025-03-04T18:43:35.901119Z",
          "iopub.status.idle": "2025-03-04T18:43:35.911683Z",
          "shell.execute_reply.started": "2025-03-04T18:43:35.901097Z",
          "shell.execute_reply": "2025-03-04T18:43:35.911078Z"
        },
        "id": "dUZ0z7fWgqn5",
        "colab": {
          "base_uri": "https://localhost:8080/",
          "height": 488
        },
        "outputId": "10ddbfdf-89eb-40b5-9c72-84de983487c0"
      },
      "outputs": [
        {
          "output_type": "execute_result",
          "data": {
            "text/plain": [
              "+--------------------+-----------+-------------+\n",
              "|        Series_Title|IMDB_Rating|Released_Year|\n",
              "+--------------------+-----------+-------------+\n",
              "|           Gladiator|        8.5|         2000|\n",
              "|             Memento|        8.4|         2000|\n",
              "|              Snatch|        8.3|         2000|\n",
              "| Requiem for a Dream|        8.3|         2000|\n",
              "|          Hera Pheri|        8.2|         2000|\n",
              "|       Amores perros|        8.1|         2000|\n",
              "|    Fa yeung nin wah|        8.1|         2000|\n",
              "|  Dancer in the Dark|        8.0|         2000|\n",
              "|        Nueve reinas|        7.9|         2000|\n",
              "|       Almost Famous|        7.9|         2000|\n",
              "|Gongdong gyeongbi...|        7.8|         2000|\n",
              "| Remember the Titans|        7.8|         2000|\n",
              "|     Wo hu cang long|        7.8|         2000|\n",
              "|           Cast Away|        7.8|         2000|\n",
              "|        Billy Elliot|        7.7|         2000|\n",
              "|Vampire Hunter D:...|        7.7|         2000|\n",
              "|O Brother, Where ...|        7.7|         2000|\n",
              "|     Batoru rowaiaru|        7.6|         2000|\n",
              "|     American Psycho|        7.6|         2000|\n",
              "+--------------------+-----------+-------------+"
            ],
            "text/html": [
              "<table border='1'>\n",
              "<tr><th>Series_Title</th><th>IMDB_Rating</th><th>Released_Year</th></tr>\n",
              "<tr><td>Gladiator</td><td>8.5</td><td>2000</td></tr>\n",
              "<tr><td>Memento</td><td>8.4</td><td>2000</td></tr>\n",
              "<tr><td>Snatch</td><td>8.3</td><td>2000</td></tr>\n",
              "<tr><td>Requiem for a Dream</td><td>8.3</td><td>2000</td></tr>\n",
              "<tr><td>Hera Pheri</td><td>8.2</td><td>2000</td></tr>\n",
              "<tr><td>Amores perros</td><td>8.1</td><td>2000</td></tr>\n",
              "<tr><td>Fa yeung nin wah</td><td>8.1</td><td>2000</td></tr>\n",
              "<tr><td>Dancer in the Dark</td><td>8.0</td><td>2000</td></tr>\n",
              "<tr><td>Nueve reinas</td><td>7.9</td><td>2000</td></tr>\n",
              "<tr><td>Almost Famous</td><td>7.9</td><td>2000</td></tr>\n",
              "<tr><td>Gongdong gyeongbi...</td><td>7.8</td><td>2000</td></tr>\n",
              "<tr><td>Remember the Titans</td><td>7.8</td><td>2000</td></tr>\n",
              "<tr><td>Wo hu cang long</td><td>7.8</td><td>2000</td></tr>\n",
              "<tr><td>Cast Away</td><td>7.8</td><td>2000</td></tr>\n",
              "<tr><td>Billy Elliot</td><td>7.7</td><td>2000</td></tr>\n",
              "<tr><td>Vampire Hunter D:...</td><td>7.7</td><td>2000</td></tr>\n",
              "<tr><td>O Brother, Where ...</td><td>7.7</td><td>2000</td></tr>\n",
              "<tr><td>Batoru rowaiaru</td><td>7.6</td><td>2000</td></tr>\n",
              "<tr><td>American Psycho</td><td>7.6</td><td>2000</td></tr>\n",
              "</table>\n"
            ]
          },
          "metadata": {},
          "execution_count": 40
        }
      ],
      "execution_count": null
    },
    {
      "cell_type": "code",
      "source": [
        "# How many unique genres are there in the dataset?\n",
        "from pyspark.sql.functions import split, explode, trim, col, count\n",
        "df.select(explode(split(col(\"Genre\"), \", \"))).distinct().count()"
      ],
      "metadata": {
        "trusted": true,
        "execution": {
          "iopub.status.busy": "2025-03-04T18:43:35.913171Z",
          "iopub.execute_input": "2025-03-04T18:43:35.913343Z",
          "iopub.status.idle": "2025-03-04T18:43:35.927186Z",
          "shell.execute_reply.started": "2025-03-04T18:43:35.913329Z",
          "shell.execute_reply": "2025-03-04T18:43:35.926659Z"
        },
        "id": "iy6Uw7bCgqn6",
        "colab": {
          "base_uri": "https://localhost:8080/"
        },
        "outputId": "95b9e227-9eb7-41ed-ef46-85122b26c6da"
      },
      "outputs": [
        {
          "output_type": "execute_result",
          "data": {
            "text/plain": [
              "21"
            ]
          },
          "metadata": {},
          "execution_count": 62
        }
      ],
      "execution_count": null
    },
    {
      "cell_type": "code",
      "source": [
        "# Which genre has the most movies?\n",
        "dfg = df.select(explode(split(col(\"Genre\"), \", \")).alias(\"Genres\"))\n",
        "dfg.groupBy(\"Genres\").count().sort(desc(col(\"count\"))).limit(1)"
      ],
      "metadata": {
        "trusted": true,
        "execution": {
          "iopub.status.busy": "2025-03-04T18:43:35.927945Z",
          "iopub.execute_input": "2025-03-04T18:43:35.928136Z",
          "iopub.status.idle": "2025-03-04T18:43:35.953261Z",
          "shell.execute_reply.started": "2025-03-04T18:43:35.928098Z",
          "shell.execute_reply": "2025-03-04T18:43:35.952617Z"
        },
        "id": "HpLaHPdxgqn6",
        "colab": {
          "base_uri": "https://localhost:8080/",
          "height": 68
        },
        "outputId": "2386ab7d-b69d-438d-f98b-c47911b946b3"
      },
      "outputs": [
        {
          "output_type": "execute_result",
          "data": {
            "text/plain": [
              "+------+-----+\n",
              "|Genres|count|\n",
              "+------+-----+\n",
              "| Drama|  724|\n",
              "+------+-----+"
            ],
            "text/html": [
              "<table border='1'>\n",
              "<tr><th>Genres</th><th>count</th></tr>\n",
              "<tr><td>Drama</td><td>724</td></tr>\n",
              "</table>\n"
            ]
          },
          "metadata": {},
          "execution_count": 69
        }
      ],
      "execution_count": null
    },
    {
      "cell_type": "code",
      "source": [
        "# Find the director with the most movies in the dataset.\n",
        "df.select(\"Director\").groupBy(\"Director\").count().sort(desc(col(\"count\"))).limit(1)"
      ],
      "metadata": {
        "trusted": true,
        "execution": {
          "iopub.status.busy": "2025-03-04T18:43:35.953892Z",
          "iopub.execute_input": "2025-03-04T18:43:35.954122Z",
          "iopub.status.idle": "2025-03-04T18:43:35.958575Z",
          "shell.execute_reply.started": "2025-03-04T18:43:35.954086Z",
          "shell.execute_reply": "2025-03-04T18:43:35.958069Z"
        },
        "id": "LFgYrxXHgqn6",
        "colab": {
          "base_uri": "https://localhost:8080/",
          "height": 68
        },
        "outputId": "d1801df5-8dfb-44cf-a6fd-ad744c6eb7bc"
      },
      "outputs": [
        {
          "output_type": "execute_result",
          "data": {
            "text/plain": [
              "+----------------+-----+\n",
              "|        Director|count|\n",
              "+----------------+-----+\n",
              "|Alfred Hitchcock|   14|\n",
              "+----------------+-----+"
            ],
            "text/html": [
              "<table border='1'>\n",
              "<tr><th>Director</th><th>count</th></tr>\n",
              "<tr><td>Alfred Hitchcock</td><td>14</td></tr>\n",
              "</table>\n"
            ]
          },
          "metadata": {},
          "execution_count": 74
        }
      ],
      "execution_count": null
    },
    {
      "cell_type": "code",
      "source": [
        "# List the top 5 actors/actresses who have appeared in the most movies.\n",
        "stars = df.select(\"Star1\").union(df.select(\"Star2\")).union(df.select(\"Star3\")).union(df.select(\"Star4\"))\n",
        "stars.groupBy(\"Star1\").count().sort(desc(col(\"count\")))"
      ],
      "metadata": {
        "trusted": true,
        "execution": {
          "iopub.status.busy": "2025-03-04T18:43:35.959143Z",
          "iopub.execute_input": "2025-03-04T18:43:35.959317Z",
          "iopub.status.idle": "2025-03-04T18:43:35.973486Z",
          "shell.execute_reply.started": "2025-03-04T18:43:35.959303Z",
          "shell.execute_reply": "2025-03-04T18:43:35.972859Z"
        },
        "id": "nn6l6q2ggqn6",
        "colab": {
          "base_uri": "https://localhost:8080/",
          "height": 529
        },
        "outputId": "ad893e31-fa5e-4cc5-9c75-bd2bc9d91974"
      },
      "outputs": [
        {
          "output_type": "execute_result",
          "data": {
            "text/plain": [
              "+------------------+-----+\n",
              "|             Star1|count|\n",
              "+------------------+-----+\n",
              "|    Robert De Niro|   17|\n",
              "|         Tom Hanks|   14|\n",
              "|         Al Pacino|   13|\n",
              "|    Clint Eastwood|   12|\n",
              "|         Brad Pitt|   12|\n",
              "| Leonardo DiCaprio|   11|\n",
              "|        Matt Damon|   11|\n",
              "|    Christian Bale|   11|\n",
              "|     James Stewart|   10|\n",
              "| Denzel Washington|    9|\n",
              "|     Michael Caine|    9|\n",
              "|Scarlett Johansson|    9|\n",
              "|   Humphrey Bogart|    9|\n",
              "|       Ethan Hawke|    9|\n",
              "|       Johnny Depp|    9|\n",
              "|     Harrison Ford|    8|\n",
              "|        Aamir Khan|    8|\n",
              "|      Jeff Bridges|    7|\n",
              "|    Toshirô Mifune|    7|\n",
              "|   Jake Gyllenhaal|    7|\n",
              "+------------------+-----+\n",
              "only showing top 20 rows"
            ],
            "text/html": [
              "<table border='1'>\n",
              "<tr><th>Star1</th><th>count</th></tr>\n",
              "<tr><td>Robert De Niro</td><td>17</td></tr>\n",
              "<tr><td>Tom Hanks</td><td>14</td></tr>\n",
              "<tr><td>Al Pacino</td><td>13</td></tr>\n",
              "<tr><td>Clint Eastwood</td><td>12</td></tr>\n",
              "<tr><td>Brad Pitt</td><td>12</td></tr>\n",
              "<tr><td>Leonardo DiCaprio</td><td>11</td></tr>\n",
              "<tr><td>Matt Damon</td><td>11</td></tr>\n",
              "<tr><td>Christian Bale</td><td>11</td></tr>\n",
              "<tr><td>James Stewart</td><td>10</td></tr>\n",
              "<tr><td>Denzel Washington</td><td>9</td></tr>\n",
              "<tr><td>Michael Caine</td><td>9</td></tr>\n",
              "<tr><td>Scarlett Johansson</td><td>9</td></tr>\n",
              "<tr><td>Humphrey Bogart</td><td>9</td></tr>\n",
              "<tr><td>Ethan Hawke</td><td>9</td></tr>\n",
              "<tr><td>Johnny Depp</td><td>9</td></tr>\n",
              "<tr><td>Harrison Ford</td><td>8</td></tr>\n",
              "<tr><td>Aamir Khan</td><td>8</td></tr>\n",
              "<tr><td>Jeff Bridges</td><td>7</td></tr>\n",
              "<tr><td>Toshir&ocirc; Mifune</td><td>7</td></tr>\n",
              "<tr><td>Jake Gyllenhaal</td><td>7</td></tr>\n",
              "</table>\n",
              "only showing top 20 rows\n"
            ]
          },
          "metadata": {},
          "execution_count": 100
        }
      ],
      "execution_count": null
    },
    {
      "cell_type": "code",
      "source": [
        "# Find the longest movie in terms of runtime.\n",
        "from pyspark.sql.functions import regexp_replace\n",
        "df = df.withColumn(\"Runtime\", regexp_replace(col(\"Runtime\"), \" min\", \"\").cast(\"int\"))\n",
        "df.sort(desc(\"Runtime\")).select(\"Series_Title\", \"Runtime\").limit(1)"
      ],
      "metadata": {
        "trusted": true,
        "execution": {
          "iopub.status.busy": "2025-03-04T18:43:35.974051Z",
          "iopub.execute_input": "2025-03-04T18:43:35.974215Z",
          "iopub.status.idle": "2025-03-04T18:43:35.986523Z",
          "shell.execute_reply.started": "2025-03-04T18:43:35.974202Z",
          "shell.execute_reply": "2025-03-04T18:43:35.985892Z"
        },
        "id": "-G-4kegCgqn7",
        "colab": {
          "base_uri": "https://localhost:8080/",
          "height": 65
        },
        "outputId": "924c326d-6c1d-4927-9fcb-3d835804330c"
      },
      "outputs": [
        {
          "output_type": "execute_result",
          "data": {
            "text/plain": [
              "+------------------+-------+\n",
              "|      Series_Title|Runtime|\n",
              "+------------------+-------+\n",
              "|Gangs of Wasseypur|    321|\n",
              "+------------------+-------+"
            ],
            "text/html": [
              "<table border='1'>\n",
              "<tr><th>Series_Title</th><th>Runtime</th></tr>\n",
              "<tr><td>Gangs of Wasseypur</td><td>321</td></tr>\n",
              "</table>\n"
            ]
          },
          "metadata": {},
          "execution_count": 87
        }
      ],
      "execution_count": null
    },
    {
      "cell_type": "code",
      "source": [
        "# What is the average runtime of the movies?\n",
        "df.select(round(avg(col(\"Runtime\")), 2).alias(\"Average Runtime\"))"
      ],
      "metadata": {
        "trusted": true,
        "execution": {
          "iopub.status.busy": "2025-03-04T18:43:35.987106Z",
          "iopub.execute_input": "2025-03-04T18:43:35.987263Z",
          "iopub.status.idle": "2025-03-04T18:43:35.999501Z",
          "shell.execute_reply.started": "2025-03-04T18:43:35.98725Z",
          "shell.execute_reply": "2025-03-04T18:43:35.998897Z"
        },
        "id": "3FdXFnDOgqn7",
        "colab": {
          "base_uri": "https://localhost:8080/",
          "height": 65
        },
        "outputId": "74cf04c6-18ef-4feb-e856-1ddebbeed59d"
      },
      "outputs": [
        {
          "output_type": "execute_result",
          "data": {
            "text/plain": [
              "+---------------+\n",
              "|Average Runtime|\n",
              "+---------------+\n",
              "|         122.89|\n",
              "+---------------+"
            ],
            "text/html": [
              "<table border='1'>\n",
              "<tr><th>Average Runtime</th></tr>\n",
              "<tr><td>122.89</td></tr>\n",
              "</table>\n"
            ]
          },
          "metadata": {},
          "execution_count": 91
        }
      ],
      "execution_count": null
    },
    {
      "cell_type": "code",
      "source": [
        "# List all movies with a runtime greater than 3 hours.\n",
        "df.filter(\"Runtime > 180\").sort(desc(col(\"Runtime\"))) # PRACTICED TO HERE 6/10/2025"
      ],
      "metadata": {
        "trusted": true,
        "execution": {
          "iopub.status.busy": "2025-03-04T18:43:36.000668Z",
          "iopub.execute_input": "2025-03-04T18:43:36.00083Z",
          "iopub.status.idle": "2025-03-04T18:43:36.014989Z",
          "shell.execute_reply.started": "2025-03-04T18:43:36.000816Z",
          "shell.execute_reply": "2025-03-04T18:43:36.014444Z"
        },
        "id": "YOvBLXUSgqn7",
        "colab": {
          "base_uri": "https://localhost:8080/",
          "height": 910
        },
        "outputId": "ea5c1ce6-5e29-4acf-a5ad-f609ef14118e"
      },
      "outputs": [
        {
          "output_type": "execute_result",
          "data": {
            "text/plain": [
              "+--------------------+--------------------+-------------+-----------+-------+--------------------+-----------+--------------------+----------+--------------------+-------------------+----------------+-------------------+------------------+-----------+-----------+\n",
              "|         Poster_Link|        Series_Title|Released_Year|Certificate|Runtime|               Genre|IMDB_Rating|            Overview|Meta_score|            Director|              Star1|           Star2|              Star3|             Star4|No_of_Votes|      Gross|\n",
              "+--------------------+--------------------+-------------+-----------+-------+--------------------+-----------+--------------------+----------+--------------------+-------------------+----------------+-------------------+------------------+-----------+-----------+\n",
              "|https://m.media-a...|  Gangs of Wasseypur|         2012|          A|    321|Action, Comedy, C...|        8.2|A clash between S...|        89|      Anurag Kashyap|     Manoj Bajpayee|    Richa Chadha|Nawazuddin Siddiqui|  Tigmanshu Dhulia|      82365|       NULL|\n",
              "|https://m.media-a...|              Hamlet|         1996|      PG-13|    242|               Drama|        7.7|Hamlet, Prince of...|      NULL|     Kenneth Branagh|    Kenneth Branagh|  Julie Christie|       Derek Jacobi|      Kate Winslet|      35991|  4,414,535|\n",
              "|https://m.media-a...|  Gone with the Wind|         1939|          U|    238|Drama, History, R...|        8.1|A manipulative wo...|        97|      Victor Fleming|       George Cukor|        Sam Wood|        Clark Gable|      Vivien Leigh|     290074|198,676,459|\n",
              "|https://m.media-a...|Once Upon a Time ...|         1984|          A|    229|        Crime, Drama|        8.4|A former Prohibit...|      NULL|        Sergio Leone|     Robert De Niro|     James Woods| Elizabeth McGovern|    Treat Williams|     311365|  5,321,508|\n",
              "|https://m.media-a...|  Lawrence of Arabia|         1962|          U|    228|Adventure, Biogra...|        8.3|The story of T.E....|       100|          David Lean|      Peter O'Toole|   Alec Guinness|      Anthony Quinn|      Jack Hawkins|     268085| 44,824,144|\n",
              "|https://m.media-a...|Lagaan: Once Upon...|         2001|          U|    224|Adventure, Drama,...|        8.1|The people of a s...|        84|  Ashutosh Gowariker|         Aamir Khan|  Raghuvir Yadav|        Gracy Singh|    Rachel Shelley|     105036|     70,147|\n",
              "|https://m.media-a...|The Ten Commandments|         1956|          U|    220|    Adventure, Drama|        7.9|Moses, an Egyptia...|      NULL|    Cecil B. DeMille|    Charlton Heston|     Yul Brynner|        Anne Baxter|Edward G. Robinson|      63560| 93,740,000|\n",
              "|https://m.media-a...|             Ben-Hur|         1959|          U|    212|Adventure, Drama,...|        8.1|After a Jewish pr...|        90|       William Wyler|    Charlton Heston|    Jack Hawkins|       Stephen Boyd|     Haya Harareet|     219466| 74,700,000|\n",
              "|https://m.media-a...|Swades: We, the P...|         2004|          U|    210|               Drama|        8.2|A successful Indi...|      NULL|  Ashutosh Gowariker|     Shah Rukh Khan|   Gayatri Joshi|     Kishori Ballal|        Smit Sheth|      83005|  1,223,240|\n",
              "|https://m.media-a...|        The Irishman|         2019|          R|    209|Biography, Crime,...|        7.9|An old man recall...|        94|     Martin Scorsese|     Robert De Niro|       Al Pacino|          Joe Pesci|     Harvey Keitel|     324720|  7,000,000|\n",
              "|https://m.media-a...|Shichinin no samurai|         1954|          U|    207|Action, Adventure...|        8.6|A poor village un...|        98|      Akira Kurosawa|     Toshirô Mifune| Takashi Shimura|     Keiko Tsushima|  Yukiko Shimazaki|     315744|    269,061|\n",
              "|https://m.media-a...|       Andrei Rublev|         1966|          R|    205|Biography, Drama,...|        8.1|The life, times a...|      NULL|    Andrei Tarkovsky|Anatoliy Solonitsyn|    Ivan Lapikov|     Nikolay Grinko|   Nikolay Sergeev|      46947|    102,021|\n",
              "|https://m.media-a...|              Sholay|         1975|          U|    204|Action, Adventure...|        8.2|After his family ...|      NULL|        Ramesh Sippy|      Sanjeev Kumar|      Dharmendra|   Amitabh Bachchan|        Amjad Khan|      51284|       NULL|\n",
              "|https://m.media-a...|The Godfather: Pa...|         1974|          A|    202|        Crime, Drama|        9.0|The early life an...|        90|Francis Ford Coppola|          Al Pacino|  Robert De Niro|      Robert Duvall|      Diane Keaton|    1129952| 57,300,000|\n",
              "|https://m.media-a...|           Malcolm X|         1992|          U|    202|Biography, Drama,...|        7.7|Biographical epic...|        73|           Spike Lee|  Denzel Washington|  Angela Bassett|       Delroy Lindo|         Spike Lee|      85819| 48,169,908|\n",
              "|https://m.media-a...|The Lord of the R...|         2003|          U|    201|Action, Adventure...|        8.9|Gandalf and Arago...|        94|       Peter Jackson|        Elijah Wood| Viggo Mortensen|       Ian McKellen|     Orlando Bloom|    1642758|377,845,905|\n",
              "|https://m.media-a...|               Giant|         1956|          G|    201|      Drama, Western|        7.6|Sprawling epic co...|        84|      George Stevens|   Elizabeth Taylor|     Rock Hudson|         James Dean|     Carroll Baker|      34075|       NULL|\n",
              "|https://m.media-a...|      Doctor Zhivago|         1965|          A|    197| Drama, Romance, War|        8.0|The life of a Rus...|        69|          David Lean|        Omar Sharif|  Julie Christie|  Geraldine Chaplin|       Rod Steiger|      69903|111,722,000|\n",
              "|https://m.media-a...|           Spartacus|         1960|          A|    197|Adventure, Biogra...|        7.9|The slave Spartac...|        87|     Stanley Kubrick|       Kirk Douglas|Laurence Olivier|       Jean Simmons|  Charles Laughton|     124339| 30,000,000|\n",
              "|https://m.media-a...|          Kis Uykusu|         2014|       NULL|    196|               Drama|        8.1|A hotel owner and...|        88|   Nuri Bilge Ceylan|     Haluk Bilginer|    Melisa Sözen|        Demet Akbag|     Ayberk Pekcan|      46547|    165,520|\n",
              "+--------------------+--------------------+-------------+-----------+-------+--------------------+-----------+--------------------+----------+--------------------+-------------------+----------------+-------------------+------------------+-----------+-----------+\n",
              "only showing top 20 rows"
            ],
            "text/html": [
              "<table border='1'>\n",
              "<tr><th>Poster_Link</th><th>Series_Title</th><th>Released_Year</th><th>Certificate</th><th>Runtime</th><th>Genre</th><th>IMDB_Rating</th><th>Overview</th><th>Meta_score</th><th>Director</th><th>Star1</th><th>Star2</th><th>Star3</th><th>Star4</th><th>No_of_Votes</th><th>Gross</th></tr>\n",
              "<tr><td>https://m.media-a...</td><td>Gangs of Wasseypur</td><td>2012</td><td>A</td><td>321</td><td>Action, Comedy, C...</td><td>8.2</td><td>A clash between S...</td><td>89</td><td>Anurag Kashyap</td><td>Manoj Bajpayee</td><td>Richa Chadha</td><td>Nawazuddin Siddiqui</td><td>Tigmanshu Dhulia</td><td>82365</td><td>NULL</td></tr>\n",
              "<tr><td>https://m.media-a...</td><td>Hamlet</td><td>1996</td><td>PG-13</td><td>242</td><td>Drama</td><td>7.7</td><td>Hamlet, Prince of...</td><td>NULL</td><td>Kenneth Branagh</td><td>Kenneth Branagh</td><td>Julie Christie</td><td>Derek Jacobi</td><td>Kate Winslet</td><td>35991</td><td>4,414,535</td></tr>\n",
              "<tr><td>https://m.media-a...</td><td>Gone with the Wind</td><td>1939</td><td>U</td><td>238</td><td>Drama, History, R...</td><td>8.1</td><td>A manipulative wo...</td><td>97</td><td>Victor Fleming</td><td>George Cukor</td><td>Sam Wood</td><td>Clark Gable</td><td>Vivien Leigh</td><td>290074</td><td>198,676,459</td></tr>\n",
              "<tr><td>https://m.media-a...</td><td>Once Upon a Time ...</td><td>1984</td><td>A</td><td>229</td><td>Crime, Drama</td><td>8.4</td><td>A former Prohibit...</td><td>NULL</td><td>Sergio Leone</td><td>Robert De Niro</td><td>James Woods</td><td>Elizabeth McGovern</td><td>Treat Williams</td><td>311365</td><td>5,321,508</td></tr>\n",
              "<tr><td>https://m.media-a...</td><td>Lawrence of Arabia</td><td>1962</td><td>U</td><td>228</td><td>Adventure, Biogra...</td><td>8.3</td><td>The story of T.E....</td><td>100</td><td>David Lean</td><td>Peter O'Toole</td><td>Alec Guinness</td><td>Anthony Quinn</td><td>Jack Hawkins</td><td>268085</td><td>44,824,144</td></tr>\n",
              "<tr><td>https://m.media-a...</td><td>Lagaan: Once Upon...</td><td>2001</td><td>U</td><td>224</td><td>Adventure, Drama,...</td><td>8.1</td><td>The people of a s...</td><td>84</td><td>Ashutosh Gowariker</td><td>Aamir Khan</td><td>Raghuvir Yadav</td><td>Gracy Singh</td><td>Rachel Shelley</td><td>105036</td><td>70,147</td></tr>\n",
              "<tr><td>https://m.media-a...</td><td>The Ten Commandments</td><td>1956</td><td>U</td><td>220</td><td>Adventure, Drama</td><td>7.9</td><td>Moses, an Egyptia...</td><td>NULL</td><td>Cecil B. DeMille</td><td>Charlton Heston</td><td>Yul Brynner</td><td>Anne Baxter</td><td>Edward G. Robinson</td><td>63560</td><td>93,740,000</td></tr>\n",
              "<tr><td>https://m.media-a...</td><td>Ben-Hur</td><td>1959</td><td>U</td><td>212</td><td>Adventure, Drama,...</td><td>8.1</td><td>After a Jewish pr...</td><td>90</td><td>William Wyler</td><td>Charlton Heston</td><td>Jack Hawkins</td><td>Stephen Boyd</td><td>Haya Harareet</td><td>219466</td><td>74,700,000</td></tr>\n",
              "<tr><td>https://m.media-a...</td><td>Swades: We, the P...</td><td>2004</td><td>U</td><td>210</td><td>Drama</td><td>8.2</td><td>A successful Indi...</td><td>NULL</td><td>Ashutosh Gowariker</td><td>Shah Rukh Khan</td><td>Gayatri Joshi</td><td>Kishori Ballal</td><td>Smit Sheth</td><td>83005</td><td>1,223,240</td></tr>\n",
              "<tr><td>https://m.media-a...</td><td>The Irishman</td><td>2019</td><td>R</td><td>209</td><td>Biography, Crime,...</td><td>7.9</td><td>An old man recall...</td><td>94</td><td>Martin Scorsese</td><td>Robert De Niro</td><td>Al Pacino</td><td>Joe Pesci</td><td>Harvey Keitel</td><td>324720</td><td>7,000,000</td></tr>\n",
              "<tr><td>https://m.media-a...</td><td>Shichinin no samurai</td><td>1954</td><td>U</td><td>207</td><td>Action, Adventure...</td><td>8.6</td><td>A poor village un...</td><td>98</td><td>Akira Kurosawa</td><td>Toshir&ocirc; Mifune</td><td>Takashi Shimura</td><td>Keiko Tsushima</td><td>Yukiko Shimazaki</td><td>315744</td><td>269,061</td></tr>\n",
              "<tr><td>https://m.media-a...</td><td>Andrei Rublev</td><td>1966</td><td>R</td><td>205</td><td>Biography, Drama,...</td><td>8.1</td><td>The life, times a...</td><td>NULL</td><td>Andrei Tarkovsky</td><td>Anatoliy Solonitsyn</td><td>Ivan Lapikov</td><td>Nikolay Grinko</td><td>Nikolay Sergeev</td><td>46947</td><td>102,021</td></tr>\n",
              "<tr><td>https://m.media-a...</td><td>Sholay</td><td>1975</td><td>U</td><td>204</td><td>Action, Adventure...</td><td>8.2</td><td>After his family ...</td><td>NULL</td><td>Ramesh Sippy</td><td>Sanjeev Kumar</td><td>Dharmendra</td><td>Amitabh Bachchan</td><td>Amjad Khan</td><td>51284</td><td>NULL</td></tr>\n",
              "<tr><td>https://m.media-a...</td><td>The Godfather: Pa...</td><td>1974</td><td>A</td><td>202</td><td>Crime, Drama</td><td>9.0</td><td>The early life an...</td><td>90</td><td>Francis Ford Coppola</td><td>Al Pacino</td><td>Robert De Niro</td><td>Robert Duvall</td><td>Diane Keaton</td><td>1129952</td><td>57,300,000</td></tr>\n",
              "<tr><td>https://m.media-a...</td><td>Malcolm X</td><td>1992</td><td>U</td><td>202</td><td>Biography, Drama,...</td><td>7.7</td><td>Biographical epic...</td><td>73</td><td>Spike Lee</td><td>Denzel Washington</td><td>Angela Bassett</td><td>Delroy Lindo</td><td>Spike Lee</td><td>85819</td><td>48,169,908</td></tr>\n",
              "<tr><td>https://m.media-a...</td><td>The Lord of the R...</td><td>2003</td><td>U</td><td>201</td><td>Action, Adventure...</td><td>8.9</td><td>Gandalf and Arago...</td><td>94</td><td>Peter Jackson</td><td>Elijah Wood</td><td>Viggo Mortensen</td><td>Ian McKellen</td><td>Orlando Bloom</td><td>1642758</td><td>377,845,905</td></tr>\n",
              "<tr><td>https://m.media-a...</td><td>Giant</td><td>1956</td><td>G</td><td>201</td><td>Drama, Western</td><td>7.6</td><td>Sprawling epic co...</td><td>84</td><td>George Stevens</td><td>Elizabeth Taylor</td><td>Rock Hudson</td><td>James Dean</td><td>Carroll Baker</td><td>34075</td><td>NULL</td></tr>\n",
              "<tr><td>https://m.media-a...</td><td>Doctor Zhivago</td><td>1965</td><td>A</td><td>197</td><td>Drama, Romance, War</td><td>8.0</td><td>The life of a Rus...</td><td>69</td><td>David Lean</td><td>Omar Sharif</td><td>Julie Christie</td><td>Geraldine Chaplin</td><td>Rod Steiger</td><td>69903</td><td>111,722,000</td></tr>\n",
              "<tr><td>https://m.media-a...</td><td>Spartacus</td><td>1960</td><td>A</td><td>197</td><td>Adventure, Biogra...</td><td>7.9</td><td>The slave Spartac...</td><td>87</td><td>Stanley Kubrick</td><td>Kirk Douglas</td><td>Laurence Olivier</td><td>Jean Simmons</td><td>Charles Laughton</td><td>124339</td><td>30,000,000</td></tr>\n",
              "<tr><td>https://m.media-a...</td><td>Kis Uykusu</td><td>2014</td><td>NULL</td><td>196</td><td>Drama</td><td>8.1</td><td>A hotel owner and...</td><td>88</td><td>Nuri Bilge Ceylan</td><td>Haluk Bilginer</td><td>Melisa S&ouml;zen</td><td>Demet Akbag</td><td>Ayberk Pekcan</td><td>46547</td><td>165,520</td></tr>\n",
              "</table>\n",
              "only showing top 20 rows\n"
            ]
          },
          "metadata": {},
          "execution_count": 99
        }
      ],
      "execution_count": null
    },
    {
      "cell_type": "code",
      "source": [
        "# How many movies were released each year?\n",
        "released_movies_year = df.groupBy(\"Released_Year\").count().sort(asc(\"Released_Year\")).toPandas()\n",
        "released_movies_year.plot.line(x='Released_Year', y ='count', ylabel='# Released Movies')"
      ],
      "metadata": {
        "trusted": true,
        "execution": {
          "iopub.status.busy": "2025-03-04T18:43:36.036496Z",
          "iopub.execute_input": "2025-03-04T18:43:36.036753Z",
          "iopub.status.idle": "2025-03-04T18:43:36.051705Z",
          "shell.execute_reply.started": "2025-03-04T18:43:36.036728Z",
          "shell.execute_reply": "2025-03-04T18:43:36.051043Z"
        },
        "id": "XL4NrJi9gqn7",
        "colab": {
          "base_uri": "https://localhost:8080/",
          "height": 468
        },
        "outputId": "6f0c5634-a078-40b6-e586-7bdeaa9bc7dd"
      },
      "outputs": [
        {
          "output_type": "execute_result",
          "data": {
            "text/plain": [
              "<Axes: xlabel='Released_Year', ylabel='# Released Movies'>"
            ]
          },
          "metadata": {},
          "execution_count": 101
        },
        {
          "output_type": "display_data",
          "data": {
            "text/plain": [
              "<Figure size 640x480 with 1 Axes>"
            ],
            "image/png": "[encoded data removed]"
          },
          "metadata": {}
        }
      ],
      "execution_count": null
    },
    {
      "cell_type": "code",
      "source": [
        "# Plot the distribution of IMDb ratings using a histogram.\n",
        "df_ratings = df.select(\"IMDB_Rating\").toPandas()\n",
        "df_ratings.plot.hist(xlabel='IMDB Rating')"
      ],
      "metadata": {
        "trusted": true,
        "execution": {
          "iopub.status.busy": "2025-03-04T18:43:36.052404Z",
          "iopub.execute_input": "2025-03-04T18:43:36.052614Z",
          "iopub.status.idle": "2025-03-04T18:43:36.356372Z",
          "shell.execute_reply.started": "2025-03-04T18:43:36.052598Z",
          "shell.execute_reply": "2025-03-04T18:43:36.355668Z"
        },
        "id": "PHSwKKJOgqn7",
        "colab": {
          "base_uri": "https://localhost:8080/",
          "height": 466
        },
        "outputId": "eb58cb5b-9433-4180-8e2f-def3d7fe78c5"
      },
      "outputs": [
        {
          "output_type": "execute_result",
          "data": {
            "text/plain": [
              "<Axes: xlabel='IMDB Rating', ylabel='Frequency'>"
            ]
          },
          "metadata": {},
          "execution_count": 226
        },
        {
          "output_type": "display_data",
          "data": {
            "text/plain": [
              "<Figure size 640x480 with 1 Axes>"
            ],
            "image/png": "[encoded data removed]"
          },
          "metadata": {}
        }
      ],
      "execution_count": null
    },
    {
      "cell_type": "code",
      "source": [
        "# Which movie has the most votes?\n",
        "df.select(\"No_of_Votes\", \"Series_Title\").sort(desc(\"No_of_Votes\"))"
      ],
      "metadata": {
        "trusted": true,
        "execution": {
          "iopub.status.busy": "2025-03-04T18:53:59.898952Z",
          "iopub.execute_input": "2025-03-04T18:53:59.899218Z",
          "iopub.status.idle": "2025-03-04T18:53:59.903872Z",
          "shell.execute_reply.started": "2025-03-04T18:53:59.899198Z",
          "shell.execute_reply": "2025-03-04T18:53:59.902944Z"
        },
        "id": "S8FF4RjZgqn7",
        "colab": {
          "base_uri": "https://localhost:8080/",
          "height": 529
        },
        "outputId": "1cce1efd-00e5-4dd8-fbc0-233eccb411fe"
      },
      "outputs": [
        {
          "output_type": "execute_result",
          "data": {
            "text/plain": [
              "+-------------------+--------------------+\n",
              "|        No_of_Votes|        Series_Title|\n",
              "+-------------------+--------------------+\n",
              "|Wotan Wilke Möhring|      Das Experiment|\n",
              "|          Tony Hale|         Toy Story 4|\n",
              "|        Stephen Rea|      V for Vendetta|\n",
              "|        Ringo Starr|  A Hard Day's Night|\n",
              "|       Reni Santoni|         Dirty Harry|\n",
              "|       John Goodman|    The Big Lebowski|\n",
              "|    John Buckwalter|               Zelig|\n",
              "|           JB Blanc|The Count of Mont...|\n",
              "|      Geoffrey Rush|Pirates of the Ca...|\n",
              "|    Gabrielle Anwar|    Scent of a Woman|\n",
              "|    Elizabeth Banks|      The Lego Movie|\n",
              "|    Denholm Elliott|Indiana Jones and...|\n",
              "|       Babak Karimi|          Forushande|\n",
              "|         Alan Badel|The Day of the Ja...|\n",
              "|             999790|              WALL·E|\n",
              "|              99643|              Gifted|\n",
              "|             995506|Terminator 2: Jud...|\n",
              "|              99182|A Streetcar Named...|\n",
              "|             991208|  The Usual Suspects|\n",
              "|              98740|         Deliverance|\n",
              "+-------------------+--------------------+\n",
              "only showing top 20 rows"
            ],
            "text/html": [
              "<table border='1'>\n",
              "<tr><th>No_of_Votes</th><th>Series_Title</th></tr>\n",
              "<tr><td>Wotan Wilke M&ouml;hring</td><td>Das Experiment</td></tr>\n",
              "<tr><td>Tony Hale</td><td>Toy Story 4</td></tr>\n",
              "<tr><td>Stephen Rea</td><td>V for Vendetta</td></tr>\n",
              "<tr><td>Ringo Starr</td><td>A Hard Day's Night</td></tr>\n",
              "<tr><td>Reni Santoni</td><td>Dirty Harry</td></tr>\n",
              "<tr><td>John Goodman</td><td>The Big Lebowski</td></tr>\n",
              "<tr><td>John Buckwalter</td><td>Zelig</td></tr>\n",
              "<tr><td>JB Blanc</td><td>The Count of Mont...</td></tr>\n",
              "<tr><td>Geoffrey Rush</td><td>Pirates of the Ca...</td></tr>\n",
              "<tr><td>Gabrielle Anwar</td><td>Scent of a Woman</td></tr>\n",
              "<tr><td>Elizabeth Banks</td><td>The Lego Movie</td></tr>\n",
              "<tr><td>Denholm Elliott</td><td>Indiana Jones and...</td></tr>\n",
              "<tr><td>Babak Karimi</td><td>Forushande</td></tr>\n",
              "<tr><td>Alan Badel</td><td>The Day of the Ja...</td></tr>\n",
              "<tr><td>999790</td><td>WALL&middot;E</td></tr>\n",
              "<tr><td>99643</td><td>Gifted</td></tr>\n",
              "<tr><td>995506</td><td>Terminator 2: Jud...</td></tr>\n",
              "<tr><td>99182</td><td>A Streetcar Named...</td></tr>\n",
              "<tr><td>991208</td><td>The Usual Suspects</td></tr>\n",
              "<tr><td>98740</td><td>Deliverance</td></tr>\n",
              "</table>\n",
              "only showing top 20 rows\n"
            ]
          },
          "metadata": {},
          "execution_count": 227
        }
      ],
      "execution_count": null
    },
    {
      "cell_type": "code",
      "source": [
        "# Filter the dataset to only include movies with an IMDb rating greater than 8.0.\n",
        "pre = df.filter(col(\"No_of_Votes\").cast(\"int\").isNotNull())\n",
        "pre = pre.withColumn(\"No_of_Votes\", col(\"No_of_Votes\").cast(\"int\"))\n",
        "pre.sort(desc(\"No_of_Votes\")).select(\"Series_Title\", \"No_of_Votes\")"
      ],
      "metadata": {
        "trusted": true,
        "execution": {
          "iopub.status.busy": "2025-03-04T18:56:11.171308Z",
          "iopub.execute_input": "2025-03-04T18:56:11.171544Z",
          "iopub.status.idle": "2025-03-04T18:56:11.185697Z",
          "shell.execute_reply.started": "2025-03-04T18:56:11.171529Z",
          "shell.execute_reply": "2025-03-04T18:56:11.185069Z"
        },
        "id": "v1e055fogqn8",
        "colab": {
          "base_uri": "https://localhost:8080/",
          "height": 529
        },
        "outputId": "0105fdf5-df4c-4730-fa76-2c1c593adeb3"
      },
      "outputs": [
        {
          "output_type": "execute_result",
          "data": {
            "text/plain": [
              "+--------------------+-----------+\n",
              "|        Series_Title|No_of_Votes|\n",
              "+--------------------+-----------+\n",
              "|The Shawshank Red...|    2343110|\n",
              "|     The Dark Knight|    2303232|\n",
              "|           Inception|    2067042|\n",
              "|          Fight Club|    1854740|\n",
              "|        Pulp Fiction|    1826188|\n",
              "|        Forrest Gump|    1809221|\n",
              "|          The Matrix|    1676426|\n",
              "|The Lord of the R...|    1661481|\n",
              "|The Lord of the R...|    1642758|\n",
              "|       The Godfather|    1620367|\n",
              "|The Dark Knight R...|    1516346|\n",
              "|        Interstellar|    1512360|\n",
              "|The Lord of the R...|    1485555|\n",
              "|               Se7en|    1445096|\n",
              "|    Django Unchained|    1357682|\n",
              "|           Gladiator|    1341460|\n",
              "|       Batman Begins|    1308302|\n",
              "|The Silence of th...|    1270197|\n",
              "|Inglourious Basterds|    1267869|\n",
              "|        The Avengers|    1260806|\n",
              "+--------------------+-----------+\n",
              "only showing top 20 rows"
            ],
            "text/html": [
              "<table border='1'>\n",
              "<tr><th>Series_Title</th><th>No_of_Votes</th></tr>\n",
              "<tr><td>The Shawshank Red...</td><td>2343110</td></tr>\n",
              "<tr><td>The Dark Knight</td><td>2303232</td></tr>\n",
              "<tr><td>Inception</td><td>2067042</td></tr>\n",
              "<tr><td>Fight Club</td><td>1854740</td></tr>\n",
              "<tr><td>Pulp Fiction</td><td>1826188</td></tr>\n",
              "<tr><td>Forrest Gump</td><td>1809221</td></tr>\n",
              "<tr><td>The Matrix</td><td>1676426</td></tr>\n",
              "<tr><td>The Lord of the R...</td><td>1661481</td></tr>\n",
              "<tr><td>The Lord of the R...</td><td>1642758</td></tr>\n",
              "<tr><td>The Godfather</td><td>1620367</td></tr>\n",
              "<tr><td>The Dark Knight R...</td><td>1516346</td></tr>\n",
              "<tr><td>Interstellar</td><td>1512360</td></tr>\n",
              "<tr><td>The Lord of the R...</td><td>1485555</td></tr>\n",
              "<tr><td>Se7en</td><td>1445096</td></tr>\n",
              "<tr><td>Django Unchained</td><td>1357682</td></tr>\n",
              "<tr><td>Gladiator</td><td>1341460</td></tr>\n",
              "<tr><td>Batman Begins</td><td>1308302</td></tr>\n",
              "<tr><td>The Silence of th...</td><td>1270197</td></tr>\n",
              "<tr><td>Inglourious Basterds</td><td>1267869</td></tr>\n",
              "<tr><td>The Avengers</td><td>1260806</td></tr>\n",
              "</table>\n",
              "only showing top 20 rows\n"
            ]
          },
          "metadata": {},
          "execution_count": 246
        }
      ],
      "execution_count": null
    },
    {
      "cell_type": "code",
      "source": [
        "pre.dtypes\n"
      ],
      "metadata": {
        "trusted": true,
        "execution": {
          "iopub.status.busy": "2025-03-04T18:55:42.191269Z",
          "iopub.execute_input": "2025-03-04T18:55:42.191558Z",
          "iopub.status.idle": "2025-03-04T18:55:42.19596Z",
          "shell.execute_reply.started": "2025-03-04T18:55:42.191537Z",
          "shell.execute_reply": "2025-03-04T18:55:42.19536Z"
        },
        "id": "q86ncGDUgqn8",
        "colab": {
          "base_uri": "https://localhost:8080/"
        },
        "outputId": "cbbd9988-587b-49a1-ac85-fff56caa0ef1"
      },
      "outputs": [
        {
          "output_type": "execute_result",
          "data": {
            "text/plain": [
              "[('Poster_Link', 'string'),\n",
              " ('Series_Title', 'string'),\n",
              " ('Released_Year', 'string'),\n",
              " ('Certificate', 'string'),\n",
              " ('Runtime', 'string'),\n",
              " ('Genre', 'string'),\n",
              " ('IMDB_Rating', 'double'),\n",
              " ('Overview', 'string'),\n",
              " ('Meta_score', 'string'),\n",
              " ('Director', 'string'),\n",
              " ('Star1', 'string'),\n",
              " ('Star2', 'string'),\n",
              " ('Star3', 'string'),\n",
              " ('Star4', 'string'),\n",
              " ('No_of_Votes', 'int'),\n",
              " ('Gross', 'string')]"
            ]
          },
          "metadata": {},
          "execution_count": 245
        }
      ],
      "execution_count": null
    },
    {
      "cell_type": "code",
      "source": [],
      "metadata": {
        "trusted": true,
        "id": "T21slJLUgqn8"
      },
      "outputs": [],
      "execution_count": null
    },
    {
      "cell_type": "code",
      "source": [],
      "metadata": {
        "trusted": true,
        "id": "2V-FoAOwgqn8"
      },
      "outputs": [],
      "execution_count": null
    },
    {
      "cell_type": "code",
      "source": [],
      "metadata": {
        "trusted": true,
        "id": "Fn0eMBI0gqn8"
      },
      "outputs": [],
      "execution_count": null
    },
    {
      "cell_type": "code",
      "source": [],
      "metadata": {
        "trusted": true,
        "id": "ZFXoJwUqgqn8"
      },
      "outputs": [],
      "execution_count": null
    }
  ]
}